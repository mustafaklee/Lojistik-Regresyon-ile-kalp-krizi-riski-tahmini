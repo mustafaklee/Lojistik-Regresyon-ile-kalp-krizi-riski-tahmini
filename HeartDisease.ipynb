{
 "cells": [
  {
   "cell_type": "code",
   "execution_count": 1,
   "id": "ec4225bd-7708-4a55-bc38-292b58d322e9",
   "metadata": {},
   "outputs": [],
   "source": [
    "# Özellikleri belirtildiğinde kişilerin 10 yıl içerisinde kalp hastasığına yakalanma riskini tahmin eden model\n",
    "\n",
    "# Değişkenler\n",
    "\n",
    "#male : erkek mi?\n",
    "#age : yaş\n",
    "#education : eğitim\n",
    "#current smoker:sıgara iciyor mu\n",
    "#cigs per day:gunde kac sigara iciyor\n",
    "#bp meds:kan basıncı\n",
    "#prevalent stroke : daha önceden inme indi mi\n",
    "#revalent hyp:yüksek kan basıncı var mı yok mu\n",
    "#diabets:diyabet mi değil mi\n",
    "#tot chol:toplam kolesterol seviyesi\n",
    "#sys bp:sistolik kan basıncı\n",
    "#dia bp:diastolik kan basıncı\n",
    "#bmı:vücüt kitle indexi\n",
    "#heart rate:kalp atış hızı\n",
    "#glucose:glikoz seviyesi\n",
    "\n",
    "#TenYearChd:10 yıl boyunca kalp rahatsızlığı riski var mı?\n",
    "\n",
    "\n",
    "# 1. Exploratory Data Analysis\n",
    "# 2. Data Preprocessing\n",
    "# 3. Model & Prediction\n",
    "# 4. Model Evaluation\n",
    "# 5. Model Validation: Holdout\n",
    "# 6. Model Validation: 10-Fold Cross Validation"
   ]
  },
  {
   "cell_type": "code",
   "execution_count": null,
   "id": "bfe87500-3123-4bce-a1bb-868efd70bcc5",
   "metadata": {},
   "outputs": [],
   "source": [
    "import pandas as pd\n",
    "import numpy as np\n",
    "import seaborn as sns\n",
    "import matplotlib.pyplot as plt\n",
    "from sklearn.preprocessing import RobustScaler\n",
    "from sklearn.linear_model import LogisticRegression\n",
    "from sklearn.metrics import accuracy_score,confusion_matrix,classification_report\n",
    "from sklearn.model_selection import train_test_split,cross_validate"
   ]
  },
  {
   "cell_type": "code",
   "execution_count": 3,
   "id": "8b4ce573-4552-432a-8f01-e50d31544e6d",
   "metadata": {},
   "outputs": [],
   "source": [
    "df=pd.read_csv(\"framingham.csv\")"
   ]
  },
  {
   "cell_type": "code",
   "execution_count": 4,
   "id": "a6e3db4d-49ef-486e-9183-837a43030cda",
   "metadata": {},
   "outputs": [
    {
     "data": {
      "text/html": [
       "<div>\n",
       "<style scoped>\n",
       "    .dataframe tbody tr th:only-of-type {\n",
       "        vertical-align: middle;\n",
       "    }\n",
       "\n",
       "    .dataframe tbody tr th {\n",
       "        vertical-align: top;\n",
       "    }\n",
       "\n",
       "    .dataframe thead th {\n",
       "        text-align: right;\n",
       "    }\n",
       "</style>\n",
       "<table border=\"1\" class=\"dataframe\">\n",
       "  <thead>\n",
       "    <tr style=\"text-align: right;\">\n",
       "      <th></th>\n",
       "      <th>male</th>\n",
       "      <th>age</th>\n",
       "      <th>education</th>\n",
       "      <th>currentSmoker</th>\n",
       "      <th>cigsPerDay</th>\n",
       "      <th>BPMeds</th>\n",
       "      <th>prevalentStroke</th>\n",
       "      <th>prevalentHyp</th>\n",
       "      <th>diabetes</th>\n",
       "      <th>totChol</th>\n",
       "      <th>sysBP</th>\n",
       "      <th>diaBP</th>\n",
       "      <th>BMI</th>\n",
       "      <th>heartRate</th>\n",
       "      <th>glucose</th>\n",
       "      <th>TenYearCHD</th>\n",
       "    </tr>\n",
       "  </thead>\n",
       "  <tbody>\n",
       "    <tr>\n",
       "      <th>0</th>\n",
       "      <td>1</td>\n",
       "      <td>39</td>\n",
       "      <td>4.0</td>\n",
       "      <td>0</td>\n",
       "      <td>0.0</td>\n",
       "      <td>0.0</td>\n",
       "      <td>0</td>\n",
       "      <td>0</td>\n",
       "      <td>0</td>\n",
       "      <td>195.0</td>\n",
       "      <td>106.0</td>\n",
       "      <td>70.0</td>\n",
       "      <td>26.97</td>\n",
       "      <td>80.0</td>\n",
       "      <td>77.0</td>\n",
       "      <td>0</td>\n",
       "    </tr>\n",
       "    <tr>\n",
       "      <th>1</th>\n",
       "      <td>0</td>\n",
       "      <td>46</td>\n",
       "      <td>2.0</td>\n",
       "      <td>0</td>\n",
       "      <td>0.0</td>\n",
       "      <td>0.0</td>\n",
       "      <td>0</td>\n",
       "      <td>0</td>\n",
       "      <td>0</td>\n",
       "      <td>250.0</td>\n",
       "      <td>121.0</td>\n",
       "      <td>81.0</td>\n",
       "      <td>28.73</td>\n",
       "      <td>95.0</td>\n",
       "      <td>76.0</td>\n",
       "      <td>0</td>\n",
       "    </tr>\n",
       "    <tr>\n",
       "      <th>2</th>\n",
       "      <td>1</td>\n",
       "      <td>48</td>\n",
       "      <td>1.0</td>\n",
       "      <td>1</td>\n",
       "      <td>20.0</td>\n",
       "      <td>0.0</td>\n",
       "      <td>0</td>\n",
       "      <td>0</td>\n",
       "      <td>0</td>\n",
       "      <td>245.0</td>\n",
       "      <td>127.5</td>\n",
       "      <td>80.0</td>\n",
       "      <td>25.34</td>\n",
       "      <td>75.0</td>\n",
       "      <td>70.0</td>\n",
       "      <td>0</td>\n",
       "    </tr>\n",
       "    <tr>\n",
       "      <th>3</th>\n",
       "      <td>0</td>\n",
       "      <td>61</td>\n",
       "      <td>3.0</td>\n",
       "      <td>1</td>\n",
       "      <td>30.0</td>\n",
       "      <td>0.0</td>\n",
       "      <td>0</td>\n",
       "      <td>1</td>\n",
       "      <td>0</td>\n",
       "      <td>225.0</td>\n",
       "      <td>150.0</td>\n",
       "      <td>95.0</td>\n",
       "      <td>28.58</td>\n",
       "      <td>65.0</td>\n",
       "      <td>103.0</td>\n",
       "      <td>1</td>\n",
       "    </tr>\n",
       "    <tr>\n",
       "      <th>4</th>\n",
       "      <td>0</td>\n",
       "      <td>46</td>\n",
       "      <td>3.0</td>\n",
       "      <td>1</td>\n",
       "      <td>23.0</td>\n",
       "      <td>0.0</td>\n",
       "      <td>0</td>\n",
       "      <td>0</td>\n",
       "      <td>0</td>\n",
       "      <td>285.0</td>\n",
       "      <td>130.0</td>\n",
       "      <td>84.0</td>\n",
       "      <td>23.10</td>\n",
       "      <td>85.0</td>\n",
       "      <td>85.0</td>\n",
       "      <td>0</td>\n",
       "    </tr>\n",
       "  </tbody>\n",
       "</table>\n",
       "</div>"
      ],
      "text/plain": [
       "   male  age  education  currentSmoker  cigsPerDay  BPMeds  prevalentStroke  \\\n",
       "0     1   39        4.0              0         0.0     0.0                0   \n",
       "1     0   46        2.0              0         0.0     0.0                0   \n",
       "2     1   48        1.0              1        20.0     0.0                0   \n",
       "3     0   61        3.0              1        30.0     0.0                0   \n",
       "4     0   46        3.0              1        23.0     0.0                0   \n",
       "\n",
       "   prevalentHyp  diabetes  totChol  sysBP  diaBP    BMI  heartRate  glucose  \\\n",
       "0             0         0    195.0  106.0   70.0  26.97       80.0     77.0   \n",
       "1             0         0    250.0  121.0   81.0  28.73       95.0     76.0   \n",
       "2             0         0    245.0  127.5   80.0  25.34       75.0     70.0   \n",
       "3             1         0    225.0  150.0   95.0  28.58       65.0    103.0   \n",
       "4             0         0    285.0  130.0   84.0  23.10       85.0     85.0   \n",
       "\n",
       "   TenYearCHD  \n",
       "0           0  \n",
       "1           0  \n",
       "2           0  \n",
       "3           1  \n",
       "4           0  "
      ]
     },
     "execution_count": 4,
     "metadata": {},
     "output_type": "execute_result"
    }
   ],
   "source": [
    "df.head(5)"
   ]
  },
  {
   "cell_type": "code",
   "execution_count": 5,
   "id": "d826a69f-96aa-4f78-85ce-19b807d56957",
   "metadata": {},
   "outputs": [
    {
     "name": "stdout",
     "output_type": "stream",
     "text": [
      "<class 'pandas.core.frame.DataFrame'>\n",
      "RangeIndex: 4238 entries, 0 to 4237\n",
      "Data columns (total 16 columns):\n",
      " #   Column           Non-Null Count  Dtype  \n",
      "---  ------           --------------  -----  \n",
      " 0   male             4238 non-null   int64  \n",
      " 1   age              4238 non-null   int64  \n",
      " 2   education        4133 non-null   float64\n",
      " 3   currentSmoker    4238 non-null   int64  \n",
      " 4   cigsPerDay       4209 non-null   float64\n",
      " 5   BPMeds           4185 non-null   float64\n",
      " 6   prevalentStroke  4238 non-null   int64  \n",
      " 7   prevalentHyp     4238 non-null   int64  \n",
      " 8   diabetes         4238 non-null   int64  \n",
      " 9   totChol          4188 non-null   float64\n",
      " 10  sysBP            4238 non-null   float64\n",
      " 11  diaBP            4238 non-null   float64\n",
      " 12  BMI              4219 non-null   float64\n",
      " 13  heartRate        4237 non-null   float64\n",
      " 14  glucose          3850 non-null   float64\n",
      " 15  TenYearCHD       4238 non-null   int64  \n",
      "dtypes: float64(9), int64(7)\n",
      "memory usage: 529.9 KB\n"
     ]
    }
   ],
   "source": [
    "df.info()"
   ]
  },
  {
   "cell_type": "code",
   "execution_count": 6,
   "id": "d2be5ca7-88d2-4e41-a114-8714221cb477",
   "metadata": {},
   "outputs": [],
   "source": [
    "#Bağımlı değişkeni inceleyelim"
   ]
  },
  {
   "cell_type": "code",
   "execution_count": 7,
   "id": "bdaf81d4-7e7f-481e-a745-359bdc1edbcf",
   "metadata": {},
   "outputs": [
    {
     "data": {
      "text/plain": [
       "TenYearCHD\n",
       "0    3594\n",
       "1     644\n",
       "Name: count, dtype: int64"
      ]
     },
     "execution_count": 7,
     "metadata": {},
     "output_type": "execute_result"
    }
   ],
   "source": [
    "df[\"TenYearCHD\"].value_counts()"
   ]
  },
  {
   "cell_type": "code",
   "execution_count": 8,
   "id": "f8ab19aa-94ca-4622-97ff-ad2da086d327",
   "metadata": {},
   "outputs": [
    {
     "data": {
      "image/png": "[encoded data removed]",
      "text/plain": [
       "<Figure size 640x480 with 1 Axes>"
      ]
     },
     "metadata": {},
     "output_type": "display_data"
    }
   ],
   "source": [
    "sns.countplot(x=\"TenYearCHD\" , data=df);"
   ]
  },
  {
   "cell_type": "code",
   "execution_count": 9,
   "id": "1147eda0-1f76-45b6-a46b-19dcba311ff8",
   "metadata": {},
   "outputs": [
    {
     "data": {
      "text/plain": [
       "TenYearCHD\n",
       "0    84\n",
       "1    15\n",
       "Name: count, dtype: int64"
      ]
     },
     "execution_count": 9,
     "metadata": {},
     "output_type": "execute_result"
    }
   ],
   "source": [
    "100  * df[\"TenYearCHD\"].value_counts() //len(df[\"TenYearCHD\"])"
   ]
  },
  {
   "cell_type": "code",
   "execution_count": 10,
   "id": "90dbd33b-e5d3-4072-90bf-7076f8b5a796",
   "metadata": {},
   "outputs": [],
   "source": [
    "#Elimizde dengesiz dağılıma sahip bir veriseti var."
   ]
  },
  {
   "cell_type": "code",
   "execution_count": 11,
   "id": "b70dfcac-afb2-48ba-a328-0dc22013ca24",
   "metadata": {},
   "outputs": [],
   "source": [
    "#Bağımsız değişkenleri inceleyelim."
   ]
  },
  {
   "cell_type": "code",
   "execution_count": 12,
   "id": "48b271f9-cb88-4f3f-8243-f6f3060e7aac",
   "metadata": {},
   "outputs": [],
   "source": [
    "cols=df.drop(\"TenYearCHD\", axis = 1)"
   ]
  },
  {
   "cell_type": "code",
   "execution_count": 13,
   "id": "674688c8-69d7-4fda-9b27-c723af7c630e",
   "metadata": {},
   "outputs": [],
   "source": [
    "def plot_numerical_col(dataframe , numerical_col):\n",
    "    dataframe[numerical_col].hist(bins=20)\n",
    "    plt.xlabel(numerical_col)\n",
    "    plt.show()"
   ]
  },
  {
   "cell_type": "code",
   "execution_count": 14,
   "id": "c86367e0-3553-4066-8f2d-6b5852bab88a",
   "metadata": {
    "scrolled": true
   },
   "outputs": [
    {
     "data": {
      "image/png": "[encoded data removed]",
      "text/plain": [
       "<Figure size 640x480 with 1 Axes>"
      ]
     },
     "metadata": {},
     "output_type": "display_data"
    },
    {
     "data": {
      "image/png": "[encoded data removed]",
      "text/plain": [
       "<Figure size 640x480 with 1 Axes>"
      ]
     },
     "metadata": {},
     "output_type": "display_data"
    },
    {
     "data": {
      "image/png": "[encoded data removed]",
      "text/plain": [
       "<Figure size 640x480 with 1 Axes>"
      ]
     },
     "metadata": {},
     "output_type": "display_data"
    },
    {
     "data": {
      "image/png": "[encoded data removed]",
      "text/plain": [
       "<Figure size 640x480 with 1 Axes>"
      ]
     },
     "metadata": {},
     "output_type": "display_data"
    },
    {
     "data": {
      "image/png": "[encoded data removed]",
      "text/plain": [
       "<Figure size 640x480 with 1 Axes>"
      ]
     },
     "metadata": {},
     "output_type": "display_data"
    },
    {
     "data": {
      "image/png": "[encoded data removed]",
      "text/plain": [
       "<Figure size 640x480 with 1 Axes>"
      ]
     },
     "metadata": {},
     "output_type": "display_data"
    },
    {
     "data": {
      "image/png": "[encoded data removed]",
      "text/plain": [
       "<Figure size 640x480 with 1 Axes>"
      ]
     },
     "metadata": {},
     "output_type": "display_data"
    },
    {
     "data": {
      "image/png": "[encoded data removed]",
      "text/plain": [
       "<Figure size 640x480 with 1 Axes>"
      ]
     },
     "metadata": {},
     "output_type": "display_data"
    },
    {
     "data": {
      "image/png": "[encoded data removed]",
      "text/plain": [
       "<Figure size 640x480 with 1 Axes>"
      ]
     },
     "metadata": {},
     "output_type": "display_data"
    },
    {
     "data": {
      "image/png": "[encoded data removed]",
      "text/plain": [
       "<Figure size 640x480 with 1 Axes>"
      ]
     },
     "metadata": {},
     "output_type": "display_data"
    },
    {
     "data": {
      "image/png": "[encoded data removed]",
      "text/plain": [
       "<Figure size 640x480 with 1 Axes>"
      ]
     },
     "metadata": {},
     "output_type": "display_data"
    },
    {
     "data": {
      "image/png": "[encoded data removed]",
      "text/plain": [
       "<Figure size 640x480 with 1 Axes>"
      ]
     },
     "metadata": {},
     "output_type": "display_data"
    },
    {
     "data": {
      "image/png": "[encoded data removed]",
      "text/plain": [
       "<Figure size 640x480 with 1 Axes>"
      ]
     },
     "metadata": {},
     "output_type": "display_data"
    },
    {
     "data": {
      "image/png": "[encoded data removed]",
      "text/plain": [
       "<Figure size 640x480 with 1 Axes>"
      ]
     },
     "metadata": {},
     "output_type": "display_data"
    },
    {
     "data": {
      "image/png": "[encoded data removed]",
      "text/plain": [
       "<Figure size 640x480 with 1 Axes>"
      ]
     },
     "metadata": {},
     "output_type": "display_data"
    }
   ],
   "source": [
    "for col in cols.columns:\n",
    "    plot_numerical_col(cols,col)"
   ]
  },
  {
   "cell_type": "code",
   "execution_count": 15,
   "id": "0db0faa7-383e-41f2-90b9-397a0398b45c",
   "metadata": {},
   "outputs": [
    {
     "data": {
      "text/html": [
       "<div>\n",
       "<style scoped>\n",
       "    .dataframe tbody tr th:only-of-type {\n",
       "        vertical-align: middle;\n",
       "    }\n",
       "\n",
       "    .dataframe tbody tr th {\n",
       "        vertical-align: top;\n",
       "    }\n",
       "\n",
       "    .dataframe thead th {\n",
       "        text-align: right;\n",
       "    }\n",
       "</style>\n",
       "<table border=\"1\" class=\"dataframe\">\n",
       "  <thead>\n",
       "    <tr style=\"text-align: right;\">\n",
       "      <th></th>\n",
       "      <th>count</th>\n",
       "      <th>mean</th>\n",
       "      <th>std</th>\n",
       "      <th>min</th>\n",
       "      <th>25%</th>\n",
       "      <th>50%</th>\n",
       "      <th>75%</th>\n",
       "      <th>max</th>\n",
       "    </tr>\n",
       "  </thead>\n",
       "  <tbody>\n",
       "    <tr>\n",
       "      <th>male</th>\n",
       "      <td>4238.0</td>\n",
       "      <td>0.429212</td>\n",
       "      <td>0.495022</td>\n",
       "      <td>0.00</td>\n",
       "      <td>0.00</td>\n",
       "      <td>0.0</td>\n",
       "      <td>1.000</td>\n",
       "      <td>1.0</td>\n",
       "    </tr>\n",
       "    <tr>\n",
       "      <th>age</th>\n",
       "      <td>4238.0</td>\n",
       "      <td>49.584946</td>\n",
       "      <td>8.572160</td>\n",
       "      <td>32.00</td>\n",
       "      <td>42.00</td>\n",
       "      <td>49.0</td>\n",
       "      <td>56.000</td>\n",
       "      <td>70.0</td>\n",
       "    </tr>\n",
       "    <tr>\n",
       "      <th>education</th>\n",
       "      <td>4133.0</td>\n",
       "      <td>1.978950</td>\n",
       "      <td>1.019791</td>\n",
       "      <td>1.00</td>\n",
       "      <td>1.00</td>\n",
       "      <td>2.0</td>\n",
       "      <td>3.000</td>\n",
       "      <td>4.0</td>\n",
       "    </tr>\n",
       "    <tr>\n",
       "      <th>currentSmoker</th>\n",
       "      <td>4238.0</td>\n",
       "      <td>0.494101</td>\n",
       "      <td>0.500024</td>\n",
       "      <td>0.00</td>\n",
       "      <td>0.00</td>\n",
       "      <td>0.0</td>\n",
       "      <td>1.000</td>\n",
       "      <td>1.0</td>\n",
       "    </tr>\n",
       "    <tr>\n",
       "      <th>cigsPerDay</th>\n",
       "      <td>4209.0</td>\n",
       "      <td>9.003089</td>\n",
       "      <td>11.920094</td>\n",
       "      <td>0.00</td>\n",
       "      <td>0.00</td>\n",
       "      <td>0.0</td>\n",
       "      <td>20.000</td>\n",
       "      <td>70.0</td>\n",
       "    </tr>\n",
       "    <tr>\n",
       "      <th>BPMeds</th>\n",
       "      <td>4185.0</td>\n",
       "      <td>0.029630</td>\n",
       "      <td>0.169584</td>\n",
       "      <td>0.00</td>\n",
       "      <td>0.00</td>\n",
       "      <td>0.0</td>\n",
       "      <td>0.000</td>\n",
       "      <td>1.0</td>\n",
       "    </tr>\n",
       "    <tr>\n",
       "      <th>prevalentStroke</th>\n",
       "      <td>4238.0</td>\n",
       "      <td>0.005899</td>\n",
       "      <td>0.076587</td>\n",
       "      <td>0.00</td>\n",
       "      <td>0.00</td>\n",
       "      <td>0.0</td>\n",
       "      <td>0.000</td>\n",
       "      <td>1.0</td>\n",
       "    </tr>\n",
       "    <tr>\n",
       "      <th>prevalentHyp</th>\n",
       "      <td>4238.0</td>\n",
       "      <td>0.310524</td>\n",
       "      <td>0.462763</td>\n",
       "      <td>0.00</td>\n",
       "      <td>0.00</td>\n",
       "      <td>0.0</td>\n",
       "      <td>1.000</td>\n",
       "      <td>1.0</td>\n",
       "    </tr>\n",
       "    <tr>\n",
       "      <th>diabetes</th>\n",
       "      <td>4238.0</td>\n",
       "      <td>0.025720</td>\n",
       "      <td>0.158316</td>\n",
       "      <td>0.00</td>\n",
       "      <td>0.00</td>\n",
       "      <td>0.0</td>\n",
       "      <td>0.000</td>\n",
       "      <td>1.0</td>\n",
       "    </tr>\n",
       "    <tr>\n",
       "      <th>totChol</th>\n",
       "      <td>4188.0</td>\n",
       "      <td>236.721585</td>\n",
       "      <td>44.590334</td>\n",
       "      <td>107.00</td>\n",
       "      <td>206.00</td>\n",
       "      <td>234.0</td>\n",
       "      <td>263.000</td>\n",
       "      <td>696.0</td>\n",
       "    </tr>\n",
       "    <tr>\n",
       "      <th>sysBP</th>\n",
       "      <td>4238.0</td>\n",
       "      <td>132.352407</td>\n",
       "      <td>22.038097</td>\n",
       "      <td>83.50</td>\n",
       "      <td>117.00</td>\n",
       "      <td>128.0</td>\n",
       "      <td>144.000</td>\n",
       "      <td>295.0</td>\n",
       "    </tr>\n",
       "    <tr>\n",
       "      <th>diaBP</th>\n",
       "      <td>4238.0</td>\n",
       "      <td>82.893464</td>\n",
       "      <td>11.910850</td>\n",
       "      <td>48.00</td>\n",
       "      <td>75.00</td>\n",
       "      <td>82.0</td>\n",
       "      <td>89.875</td>\n",
       "      <td>142.5</td>\n",
       "    </tr>\n",
       "    <tr>\n",
       "      <th>BMI</th>\n",
       "      <td>4219.0</td>\n",
       "      <td>25.802008</td>\n",
       "      <td>4.080111</td>\n",
       "      <td>15.54</td>\n",
       "      <td>23.07</td>\n",
       "      <td>25.4</td>\n",
       "      <td>28.040</td>\n",
       "      <td>56.8</td>\n",
       "    </tr>\n",
       "    <tr>\n",
       "      <th>heartRate</th>\n",
       "      <td>4237.0</td>\n",
       "      <td>75.878924</td>\n",
       "      <td>12.026596</td>\n",
       "      <td>44.00</td>\n",
       "      <td>68.00</td>\n",
       "      <td>75.0</td>\n",
       "      <td>83.000</td>\n",
       "      <td>143.0</td>\n",
       "    </tr>\n",
       "    <tr>\n",
       "      <th>glucose</th>\n",
       "      <td>3850.0</td>\n",
       "      <td>81.966753</td>\n",
       "      <td>23.959998</td>\n",
       "      <td>40.00</td>\n",
       "      <td>71.00</td>\n",
       "      <td>78.0</td>\n",
       "      <td>87.000</td>\n",
       "      <td>394.0</td>\n",
       "    </tr>\n",
       "    <tr>\n",
       "      <th>TenYearCHD</th>\n",
       "      <td>4238.0</td>\n",
       "      <td>0.151958</td>\n",
       "      <td>0.359023</td>\n",
       "      <td>0.00</td>\n",
       "      <td>0.00</td>\n",
       "      <td>0.0</td>\n",
       "      <td>0.000</td>\n",
       "      <td>1.0</td>\n",
       "    </tr>\n",
       "  </tbody>\n",
       "</table>\n",
       "</div>"
      ],
      "text/plain": [
       "                  count        mean        std     min     25%    50%  \\\n",
       "male             4238.0    0.429212   0.495022    0.00    0.00    0.0   \n",
       "age              4238.0   49.584946   8.572160   32.00   42.00   49.0   \n",
       "education        4133.0    1.978950   1.019791    1.00    1.00    2.0   \n",
       "currentSmoker    4238.0    0.494101   0.500024    0.00    0.00    0.0   \n",
       "cigsPerDay       4209.0    9.003089  11.920094    0.00    0.00    0.0   \n",
       "BPMeds           4185.0    0.029630   0.169584    0.00    0.00    0.0   \n",
       "prevalentStroke  4238.0    0.005899   0.076587    0.00    0.00    0.0   \n",
       "prevalentHyp     4238.0    0.310524   0.462763    0.00    0.00    0.0   \n",
       "diabetes         4238.0    0.025720   0.158316    0.00    0.00    0.0   \n",
       "totChol          4188.0  236.721585  44.590334  107.00  206.00  234.0   \n",
       "sysBP            4238.0  132.352407  22.038097   83.50  117.00  128.0   \n",
       "diaBP            4238.0   82.893464  11.910850   48.00   75.00   82.0   \n",
       "BMI              4219.0   25.802008   4.080111   15.54   23.07   25.4   \n",
       "heartRate        4237.0   75.878924  12.026596   44.00   68.00   75.0   \n",
       "glucose          3850.0   81.966753  23.959998   40.00   71.00   78.0   \n",
       "TenYearCHD       4238.0    0.151958   0.359023    0.00    0.00    0.0   \n",
       "\n",
       "                     75%    max  \n",
       "male               1.000    1.0  \n",
       "age               56.000   70.0  \n",
       "education          3.000    4.0  \n",
       "currentSmoker      1.000    1.0  \n",
       "cigsPerDay        20.000   70.0  \n",
       "BPMeds             0.000    1.0  \n",
       "prevalentStroke    0.000    1.0  \n",
       "prevalentHyp       1.000    1.0  \n",
       "diabetes           0.000    1.0  \n",
       "totChol          263.000  696.0  \n",
       "sysBP            144.000  295.0  \n",
       "diaBP             89.875  142.5  \n",
       "BMI               28.040   56.8  \n",
       "heartRate         83.000  143.0  \n",
       "glucose           87.000  394.0  \n",
       "TenYearCHD         0.000    1.0  "
      ]
     },
     "execution_count": 15,
     "metadata": {},
     "output_type": "execute_result"
    }
   ],
   "source": [
    "df.describe().T"
   ]
  },
  {
   "cell_type": "code",
   "execution_count": 16,
   "id": "638fdf58-f3e9-41c3-ba81-38f62e1d2271",
   "metadata": {},
   "outputs": [],
   "source": [
    "##########################\n",
    "# Target vs Features\n",
    "##########################"
   ]
  },
  {
   "cell_type": "code",
   "execution_count": 17,
   "id": "701bdf6f-8b63-4cd3-bf92-2fafa19f1961",
   "metadata": {
    "scrolled": true
   },
   "outputs": [
    {
     "name": "stdout",
     "output_type": "stream",
     "text": [
      "                male\n",
      "TenYearCHD          \n",
      "0           0.410684\n",
      "1           0.532609\n",
      "\n",
      "\n",
      "                  age\n",
      "TenYearCHD           \n",
      "0           48.767668\n",
      "1           54.145963\n",
      "\n",
      "\n",
      "            education\n",
      "TenYearCHD           \n",
      "0            2.002282\n",
      "1            1.848726\n",
      "\n",
      "\n",
      "            currentSmoker\n",
      "TenYearCHD               \n",
      "0                0.489983\n",
      "1                0.517081\n",
      "\n",
      "\n",
      "            cigsPerDay\n",
      "TenYearCHD            \n",
      "0             8.710401\n",
      "1            10.629283\n",
      "\n",
      "\n",
      "              BPMeds\n",
      "TenYearCHD          \n",
      "0           0.023367\n",
      "1           0.064771\n",
      "\n",
      "\n",
      "            prevalentStroke\n",
      "TenYearCHD                 \n",
      "0                  0.003895\n",
      "1                  0.017081\n",
      "\n",
      "\n",
      "            prevalentHyp\n",
      "TenYearCHD              \n",
      "0               0.275737\n",
      "1               0.504658\n",
      "\n",
      "\n",
      "            diabetes\n",
      "TenYearCHD          \n",
      "0           0.019199\n",
      "1           0.062112\n",
      "\n",
      "\n",
      "               totChol\n",
      "TenYearCHD            \n",
      "0           235.172530\n",
      "1           245.388976\n",
      "\n",
      "\n",
      "                 sysBP\n",
      "TenYearCHD            \n",
      "0           130.333612\n",
      "1           143.618789\n",
      "\n",
      "\n",
      "                diaBP\n",
      "TenYearCHD           \n",
      "0           82.160963\n",
      "1           86.981366\n",
      "\n",
      "\n",
      "                  BMI\n",
      "TenYearCHD           \n",
      "0           25.673007\n",
      "1           26.531451\n",
      "\n",
      "\n",
      "            heartRate\n",
      "TenYearCHD           \n",
      "0           75.762382\n",
      "1           76.530327\n",
      "\n",
      "\n",
      "              glucose\n",
      "TenYearCHD           \n",
      "0           80.682125\n",
      "1           89.008418\n",
      "\n",
      "\n"
     ]
    }
   ],
   "source": [
    "def target_summary_with_num(dataframe, target, numerical_col):\n",
    "    print(dataframe.groupby(target).agg({numerical_col: \"mean\"}), end=\"\\n\\n\\n\")\n",
    "\n",
    "for col in cols:\n",
    "    target_summary_with_num(df, \"TenYearCHD\", col)"
   ]
  },
  {
   "cell_type": "code",
   "execution_count": 18,
   "id": "b8ed86b8-d1dc-4a0b-a545-156bd53b430d",
   "metadata": {},
   "outputs": [],
   "source": [
    "######################################################\n",
    "# Data Preprocessing (Veri Ön İşleme)\n",
    "######################################################"
   ]
  },
  {
   "cell_type": "code",
   "execution_count": 19,
   "id": "7fc80528-dd91-4680-b7e0-8dcf8374ce7a",
   "metadata": {},
   "outputs": [],
   "source": [
    "#Eksik değer analizi:"
   ]
  },
  {
   "cell_type": "code",
   "execution_count": 20,
   "id": "58b48f51-61b2-4c72-829f-4ef147d05408",
   "metadata": {},
   "outputs": [
    {
     "data": {
      "text/plain": [
       "male                 0\n",
       "age                  0\n",
       "education          105\n",
       "currentSmoker        0\n",
       "cigsPerDay          29\n",
       "BPMeds              53\n",
       "prevalentStroke      0\n",
       "prevalentHyp         0\n",
       "diabetes             0\n",
       "totChol             50\n",
       "sysBP                0\n",
       "diaBP                0\n",
       "BMI                 19\n",
       "heartRate            1\n",
       "glucose            388\n",
       "TenYearCHD           0\n",
       "dtype: int64"
      ]
     },
     "execution_count": 20,
     "metadata": {},
     "output_type": "execute_result"
    }
   ],
   "source": [
    "df.isnull().sum()"
   ]
  },
  {
   "cell_type": "code",
   "execution_count": 21,
   "id": "45d8d5fa-4e7c-4da5-9133-5d534919b53b",
   "metadata": {},
   "outputs": [],
   "source": [
    "for col in [\"education\",\"cigsPerDay\",\"BPMeds\",\"totChol\",\"BMI\",\"glucose\",\"heartRate\"]:\n",
    "    df[col]=df[col].fillna(df[col].median())"
   ]
  },
  {
   "cell_type": "code",
   "execution_count": 22,
   "id": "aeaefb3e-a974-4af8-935b-f9eb1c077297",
   "metadata": {},
   "outputs": [
    {
     "data": {
      "text/plain": [
       "male               0\n",
       "age                0\n",
       "education          0\n",
       "currentSmoker      0\n",
       "cigsPerDay         0\n",
       "BPMeds             0\n",
       "prevalentStroke    0\n",
       "prevalentHyp       0\n",
       "diabetes           0\n",
       "totChol            0\n",
       "sysBP              0\n",
       "diaBP              0\n",
       "BMI                0\n",
       "heartRate          0\n",
       "glucose            0\n",
       "TenYearCHD         0\n",
       "dtype: int64"
      ]
     },
     "execution_count": 22,
     "metadata": {},
     "output_type": "execute_result"
    }
   ],
   "source": [
    "df.isnull().sum()"
   ]
  },
  {
   "cell_type": "code",
   "execution_count": 23,
   "id": "27b2872d-1b46-4d1e-b648-ce2f67669be7",
   "metadata": {},
   "outputs": [],
   "source": [
    "#Aykırı değer analizi:"
   ]
  },
  {
   "cell_type": "code",
   "execution_count": 24,
   "id": "45eb5615-9150-4318-ab7e-ff3cefd1bcf7",
   "metadata": {},
   "outputs": [],
   "source": [
    "def replace_with_thresholds(dataframe, variable):  #eğer aykırı değer varsa  , silme ancak hesaplanan eşik değeriyle doldur.\n",
    "    low_limit, up_limit = outlier_thresholds(dataframe, variable)\n",
    "    dataframe.loc[(dataframe[variable] < low_limit), variable] = low_limit\n",
    "    dataframe.loc[(dataframe[variable] > up_limit), variable] = up_limit"
   ]
  },
  {
   "cell_type": "code",
   "execution_count": 25,
   "id": "f95ac1f8-5fcf-4ff7-939d-972c3647db86",
   "metadata": {},
   "outputs": [],
   "source": [
    "def outlier_thresholds(dataframe, col_name, q1=0.05, q3=0.95):   #bir sütündaki eşik değeri hesaplar.\n",
    "    quartile1 = dataframe[col_name].quantile(q1)                 #normalde q1 ve q3 değerleri 0.25 ile 0.75 arasında verilir\n",
    "    quartile3 = dataframe[col_name].quantile(q3)                 #ancak burada aykırı değerlere daha toleranslı davrandık.\n",
    "    interquantile_range = quartile3 - quartile1                  #veri kümesinin %5 lik ve %95 dilimlerinindeki değeri hesapladık.\n",
    "    up_limit = quartile3 + 1.5* interquantile_range\n",
    "    low_limit = quartile1 - 1.5* interquantile_range\n",
    "    return low_limit, up_limit"
   ]
  },
  {
   "cell_type": "code",
   "execution_count": 26,
   "id": "32ad13c2-9cbe-4ecf-aed0-3332a81f851c",
   "metadata": {},
   "outputs": [],
   "source": [
    "def check_outlier(dataframe, col_name):         #bir sütündaki eşik değeri kullanarak aykırı değerleri bulur \n",
    "    low_limit, up_limit = outlier_thresholds(dataframe, col_name)\n",
    "    if dataframe[(dataframe[col_name] > up_limit) | (dataframe[col_name] < low_limit)].any(axis=None):\n",
    "        return True\n",
    "    else:\n",
    "        return False"
   ]
  },
  {
   "cell_type": "code",
   "execution_count": 27,
   "id": "c4a70758-5d92-4964-9f3f-4cd97b0fac1f",
   "metadata": {},
   "outputs": [
    {
     "name": "stdout",
     "output_type": "stream",
     "text": [
      "male False\n",
      "age False\n",
      "education False\n",
      "currentSmoker False\n",
      "cigsPerDay False\n",
      "BPMeds True\n",
      "prevalentStroke True\n",
      "prevalentHyp False\n",
      "diabetes True\n",
      "totChol True\n",
      "sysBP True\n",
      "diaBP False\n",
      "BMI True\n",
      "heartRate False\n",
      "glucose True\n"
     ]
    }
   ],
   "source": [
    "for col in cols:\n",
    "    print(col , check_outlier(df,col))"
   ]
  },
  {
   "cell_type": "code",
   "execution_count": 28,
   "id": "2d89090a-8607-4ef0-8046-408ddf474176",
   "metadata": {},
   "outputs": [],
   "source": [
    "#BPMeds,prevalentStroke,diabetes bu sütunlar 0 ve 1 den oluştuğu için herhangi bir outlier olamaz."
   ]
  },
  {
   "cell_type": "code",
   "execution_count": 29,
   "id": "b01b7e43-e367-4284-993e-6e1e1547fbc7",
   "metadata": {},
   "outputs": [],
   "source": [
    "for col in [\"totChol\",\"sysBP\",\"BMI\",\"glucose\"]:  \n",
    "    replace_with_thresholds(df , col)"
   ]
  },
  {
   "cell_type": "code",
   "execution_count": 30,
   "id": "98a96a56-8be6-400c-ae59-249f481a28ac",
   "metadata": {},
   "outputs": [
    {
     "name": "stdout",
     "output_type": "stream",
     "text": [
      "male False\n",
      "age False\n",
      "education False\n",
      "currentSmoker False\n",
      "cigsPerDay False\n",
      "BPMeds True\n",
      "prevalentStroke True\n",
      "prevalentHyp False\n",
      "diabetes True\n",
      "totChol False\n",
      "sysBP False\n",
      "diaBP False\n",
      "BMI False\n",
      "heartRate False\n",
      "glucose False\n"
     ]
    }
   ],
   "source": [
    "for col in cols:\n",
    "    print(col , check_outlier(df,col))"
   ]
  },
  {
   "cell_type": "code",
   "execution_count": 31,
   "id": "4c4be63a-6ec7-421e-af71-13b8c681ba43",
   "metadata": {},
   "outputs": [],
   "source": [
    "#Değişken ölçeklendirme:"
   ]
  },
  {
   "cell_type": "code",
   "execution_count": 32,
   "id": "ef248c8e-6076-489d-9910-652676a39e98",
   "metadata": {},
   "outputs": [],
   "source": [
    "for col in cols:\n",
    "    df[col]=RobustScaler().fit_transform(df[[col]])"
   ]
  },
  {
   "cell_type": "code",
   "execution_count": 33,
   "id": "2f342173-9fb8-4b5c-a8df-ca139b75a290",
   "metadata": {},
   "outputs": [
    {
     "data": {
      "text/html": [
       "<div>\n",
       "<style scoped>\n",
       "    .dataframe tbody tr th:only-of-type {\n",
       "        vertical-align: middle;\n",
       "    }\n",
       "\n",
       "    .dataframe tbody tr th {\n",
       "        vertical-align: top;\n",
       "    }\n",
       "\n",
       "    .dataframe thead th {\n",
       "        text-align: right;\n",
       "    }\n",
       "</style>\n",
       "<table border=\"1\" class=\"dataframe\">\n",
       "  <thead>\n",
       "    <tr style=\"text-align: right;\">\n",
       "      <th></th>\n",
       "      <th>male</th>\n",
       "      <th>age</th>\n",
       "      <th>education</th>\n",
       "      <th>currentSmoker</th>\n",
       "      <th>cigsPerDay</th>\n",
       "      <th>BPMeds</th>\n",
       "      <th>prevalentStroke</th>\n",
       "      <th>prevalentHyp</th>\n",
       "      <th>diabetes</th>\n",
       "      <th>totChol</th>\n",
       "      <th>sysBP</th>\n",
       "      <th>diaBP</th>\n",
       "      <th>BMI</th>\n",
       "      <th>heartRate</th>\n",
       "      <th>glucose</th>\n",
       "      <th>TenYearCHD</th>\n",
       "    </tr>\n",
       "  </thead>\n",
       "  <tbody>\n",
       "    <tr>\n",
       "      <th>0</th>\n",
       "      <td>1.0</td>\n",
       "      <td>-0.714286</td>\n",
       "      <td>1.0</td>\n",
       "      <td>0.0</td>\n",
       "      <td>0.00</td>\n",
       "      <td>0.0</td>\n",
       "      <td>0.0</td>\n",
       "      <td>0.0</td>\n",
       "      <td>0.0</td>\n",
       "      <td>-0.696429</td>\n",
       "      <td>-0.814815</td>\n",
       "      <td>-0.806723</td>\n",
       "      <td>0.316692</td>\n",
       "      <td>0.333333</td>\n",
       "      <td>-0.076923</td>\n",
       "      <td>0</td>\n",
       "    </tr>\n",
       "    <tr>\n",
       "      <th>1</th>\n",
       "      <td>0.0</td>\n",
       "      <td>-0.214286</td>\n",
       "      <td>0.0</td>\n",
       "      <td>0.0</td>\n",
       "      <td>0.00</td>\n",
       "      <td>0.0</td>\n",
       "      <td>0.0</td>\n",
       "      <td>0.0</td>\n",
       "      <td>0.0</td>\n",
       "      <td>0.285714</td>\n",
       "      <td>-0.259259</td>\n",
       "      <td>-0.067227</td>\n",
       "      <td>0.671710</td>\n",
       "      <td>1.333333</td>\n",
       "      <td>-0.153846</td>\n",
       "      <td>0</td>\n",
       "    </tr>\n",
       "    <tr>\n",
       "      <th>2</th>\n",
       "      <td>1.0</td>\n",
       "      <td>-0.071429</td>\n",
       "      <td>-0.5</td>\n",
       "      <td>1.0</td>\n",
       "      <td>1.00</td>\n",
       "      <td>0.0</td>\n",
       "      <td>0.0</td>\n",
       "      <td>0.0</td>\n",
       "      <td>0.0</td>\n",
       "      <td>0.196429</td>\n",
       "      <td>-0.018519</td>\n",
       "      <td>-0.134454</td>\n",
       "      <td>-0.012103</td>\n",
       "      <td>0.000000</td>\n",
       "      <td>-0.615385</td>\n",
       "      <td>0</td>\n",
       "    </tr>\n",
       "    <tr>\n",
       "      <th>3</th>\n",
       "      <td>0.0</td>\n",
       "      <td>0.857143</td>\n",
       "      <td>0.5</td>\n",
       "      <td>1.0</td>\n",
       "      <td>1.50</td>\n",
       "      <td>0.0</td>\n",
       "      <td>0.0</td>\n",
       "      <td>1.0</td>\n",
       "      <td>0.0</td>\n",
       "      <td>-0.160714</td>\n",
       "      <td>0.814815</td>\n",
       "      <td>0.873950</td>\n",
       "      <td>0.641452</td>\n",
       "      <td>-0.666667</td>\n",
       "      <td>1.923077</td>\n",
       "      <td>1</td>\n",
       "    </tr>\n",
       "    <tr>\n",
       "      <th>4</th>\n",
       "      <td>0.0</td>\n",
       "      <td>-0.214286</td>\n",
       "      <td>0.5</td>\n",
       "      <td>1.0</td>\n",
       "      <td>1.15</td>\n",
       "      <td>0.0</td>\n",
       "      <td>0.0</td>\n",
       "      <td>0.0</td>\n",
       "      <td>0.0</td>\n",
       "      <td>0.910714</td>\n",
       "      <td>0.074074</td>\n",
       "      <td>0.134454</td>\n",
       "      <td>-0.463944</td>\n",
       "      <td>0.666667</td>\n",
       "      <td>0.538462</td>\n",
       "      <td>0</td>\n",
       "    </tr>\n",
       "  </tbody>\n",
       "</table>\n",
       "</div>"
      ],
      "text/plain": [
       "   male       age  education  currentSmoker  cigsPerDay  BPMeds  \\\n",
       "0   1.0 -0.714286        1.0            0.0        0.00     0.0   \n",
       "1   0.0 -0.214286        0.0            0.0        0.00     0.0   \n",
       "2   1.0 -0.071429       -0.5            1.0        1.00     0.0   \n",
       "3   0.0  0.857143        0.5            1.0        1.50     0.0   \n",
       "4   0.0 -0.214286        0.5            1.0        1.15     0.0   \n",
       "\n",
       "   prevalentStroke  prevalentHyp  diabetes   totChol     sysBP     diaBP  \\\n",
       "0              0.0           0.0       0.0 -0.696429 -0.814815 -0.806723   \n",
       "1              0.0           0.0       0.0  0.285714 -0.259259 -0.067227   \n",
       "2              0.0           0.0       0.0  0.196429 -0.018519 -0.134454   \n",
       "3              0.0           1.0       0.0 -0.160714  0.814815  0.873950   \n",
       "4              0.0           0.0       0.0  0.910714  0.074074  0.134454   \n",
       "\n",
       "        BMI  heartRate   glucose  TenYearCHD  \n",
       "0  0.316692   0.333333 -0.076923           0  \n",
       "1  0.671710   1.333333 -0.153846           0  \n",
       "2 -0.012103   0.000000 -0.615385           0  \n",
       "3  0.641452  -0.666667  1.923077           1  \n",
       "4 -0.463944   0.666667  0.538462           0  "
      ]
     },
     "execution_count": 33,
     "metadata": {},
     "output_type": "execute_result"
    }
   ],
   "source": [
    "df.head()"
   ]
  },
  {
   "cell_type": "code",
   "execution_count": 34,
   "id": "b6287abf-26d3-40fc-a34f-7ae137028466",
   "metadata": {},
   "outputs": [],
   "source": [
    "#Model"
   ]
  },
  {
   "cell_type": "code",
   "execution_count": 35,
   "id": "bfeb4eeb-7933-4bf4-9631-bc639f085413",
   "metadata": {},
   "outputs": [],
   "source": [
    "y=df[\"TenYearCHD\"]\n",
    "X=df.drop([\"TenYearCHD\"] , axis=1)"
   ]
  },
  {
   "cell_type": "code",
   "execution_count": 36,
   "id": "ab8278bb-fb31-4390-8c4d-3df7424e3f12",
   "metadata": {},
   "outputs": [],
   "source": [
    "log_model = LogisticRegression().fit(X , y)"
   ]
  },
  {
   "cell_type": "code",
   "execution_count": 37,
   "id": "51d5ebc8-f5a1-4bcc-92a7-622c80dbbb51",
   "metadata": {},
   "outputs": [
    {
     "data": {
      "text/plain": [
       "array([-2.59751651])"
      ]
     },
     "execution_count": 37,
     "metadata": {},
     "output_type": "execute_result"
    }
   ],
   "source": [
    "log_model.intercept_"
   ]
  },
  {
   "cell_type": "code",
   "execution_count": 38,
   "id": "5898b268-fb61-4c12-b6be-148080fedc85",
   "metadata": {},
   "outputs": [
    {
     "data": {
      "text/plain": [
       "array([[ 0.4994711 ,  0.86268455, -0.02991625,  0.01155405,  0.42701931,\n",
       "         0.2389937 ,  0.79653859,  0.23149935,  0.37334242,  0.10662311,\n",
       "         0.37730065, -0.03487689,  0.00878774, -0.02359673,  0.09318625]])"
      ]
     },
     "execution_count": 38,
     "metadata": {},
     "output_type": "execute_result"
    }
   ],
   "source": [
    "log_model.coef_"
   ]
  },
  {
   "cell_type": "code",
   "execution_count": 39,
   "id": "9c1c0cac-e0c2-4f8d-9276-b784974ee563",
   "metadata": {},
   "outputs": [],
   "source": [
    "# y=-2.59+ x1*0.49 + x2*0.86 - x3*0.02 + x4*0.01 + .... + x15*0.09"
   ]
  },
  {
   "cell_type": "code",
   "execution_count": 40,
   "id": "610303bb-7d32-4c4d-9336-4bdf358f5682",
   "metadata": {},
   "outputs": [],
   "source": [
    "y_pred = log_model.predict(X)"
   ]
  },
  {
   "cell_type": "code",
   "execution_count": 41,
   "id": "0aa49ac6-b775-424f-ab41-df95aebb587e",
   "metadata": {},
   "outputs": [],
   "source": [
    "#Model Evalution"
   ]
  },
  {
   "cell_type": "code",
   "execution_count": 42,
   "id": "cdf60365-b533-495d-a5af-85d213e7fc74",
   "metadata": {},
   "outputs": [],
   "source": [
    "#karmaşıklık matrisinin grafiği veren fonksiyon\n",
    "\n",
    "def plot_confusion_matrix(y,y_pred):\n",
    "    acc=round(accuracy_score(y,y_pred) , 2)\n",
    "    cm=confusion_matrix(y,y_pred)\n",
    "    sns.heatmap(cm , annot=True , fmt= \".0f\")\n",
    "    plt.xlabel(\"y_pred\")\n",
    "    plt.ylabel('y')\n",
    "    plt.title('Accuary Score: {}'.format(acc , size=10))\n",
    "    plt.show()"
   ]
  },
  {
   "cell_type": "code",
   "execution_count": 43,
   "id": "ead6791c-5ed4-4552-bbd0-115ae6bdbaae",
   "metadata": {},
   "outputs": [
    {
     "data": {
      "image/png": "[encoded data removed]",
      "text/plain": [
       "<Figure size 640x480 with 2 Axes>"
      ]
     },
     "metadata": {},
     "output_type": "display_data"
    }
   ],
   "source": [
    "plot_confusion_matrix(y,y_pred)"
   ]
  },
  {
   "cell_type": "code",
   "execution_count": 44,
   "id": "fdf48ffd-8fdc-4201-ae6c-852800d83d0c",
   "metadata": {},
   "outputs": [
    {
     "name": "stdout",
     "output_type": "stream",
     "text": [
      "              precision    recall  f1-score   support\n",
      "\n",
      "           0       0.86      0.99      0.92      3594\n",
      "           1       0.74      0.08      0.15       644\n",
      "\n",
      "    accuracy                           0.86      4238\n",
      "   macro avg       0.80      0.54      0.53      4238\n",
      "weighted avg       0.84      0.86      0.80      4238\n",
      "\n"
     ]
    }
   ],
   "source": [
    "print(classification_report(y, y_pred))"
   ]
  },
  {
   "cell_type": "code",
   "execution_count": 45,
   "id": "5b3cd578-cb01-41b4-9275-6fa86532516f",
   "metadata": {},
   "outputs": [],
   "source": [
    "#Model validation: holdout"
   ]
  },
  {
   "cell_type": "code",
   "execution_count": 46,
   "id": "ed9ae761-1ab5-4bc6-940a-f9503cc1c9af",
   "metadata": {},
   "outputs": [],
   "source": [
    "X_train , X_test , y_train , y_test = train_test_split(X , y ,test_size = 0.20,\n",
    "                                                      random_state=17)"
   ]
  },
  {
   "cell_type": "code",
   "execution_count": 47,
   "id": "37efb13d-8329-420f-b0c8-6e24410efd71",
   "metadata": {},
   "outputs": [],
   "source": [
    "log_model = LogisticRegression().fit(X_train,y_train)"
   ]
  },
  {
   "cell_type": "code",
   "execution_count": 48,
   "id": "356d4b01-8940-4aa0-a8ee-dd6b7957eb7a",
   "metadata": {},
   "outputs": [],
   "source": [
    "y_pred = log_model.predict(X_test)"
   ]
  },
  {
   "cell_type": "code",
   "execution_count": 49,
   "id": "690b1cb5-7592-4f00-88d6-98fcd00ab915",
   "metadata": {},
   "outputs": [
    {
     "name": "stdout",
     "output_type": "stream",
     "text": [
      "              precision    recall  f1-score   support\n",
      "\n",
      "           0       0.84      0.99      0.91       709\n",
      "           1       0.55      0.04      0.08       139\n",
      "\n",
      "    accuracy                           0.84       848\n",
      "   macro avg       0.69      0.52      0.50       848\n",
      "weighted avg       0.79      0.84      0.77       848\n",
      "\n"
     ]
    }
   ],
   "source": [
    "print(classification_report(y_test , y_pred))"
   ]
  },
  {
   "cell_type": "code",
   "execution_count": 50,
   "id": "9b069c03-e3cb-4162-90cb-7e0359a9569f",
   "metadata": {},
   "outputs": [],
   "source": [
    "#Model validation * 10-Fold Cross validation"
   ]
  },
  {
   "cell_type": "code",
   "execution_count": 51,
   "id": "c390c536-855f-49b7-80a3-7a862fbb39b6",
   "metadata": {},
   "outputs": [],
   "source": [
    "y=df[\"TenYearCHD\"]\n",
    "X=df.drop([\"TenYearCHD\"],axis=1)"
   ]
  },
  {
   "cell_type": "code",
   "execution_count": 52,
   "id": "8c68c9af-3d10-40c0-9488-05436bb78f28",
   "metadata": {},
   "outputs": [],
   "source": [
    "log_model = LogisticRegression().fit(X,y)\n",
    "\n",
    "cv_result = cross_validate(log_model,\n",
    "                          X,\n",
    "                          y,\n",
    "                          cv=5,\n",
    "                          scoring=[\"accuracy\", \"precision\", \"recall\", \"f1\", \"roc_auc\"])"
   ]
  },
  {
   "cell_type": "code",
   "execution_count": 53,
   "id": "21471647-13c8-49d5-8a07-0b8362d67ea0",
   "metadata": {},
   "outputs": [
    {
     "data": {
      "text/plain": [
       "0.8537050856519123"
      ]
     },
     "execution_count": 53,
     "metadata": {},
     "output_type": "execute_result"
    }
   ],
   "source": [
    "cv_result[\"test_accuracy\"].mean()"
   ]
  },
  {
   "cell_type": "code",
   "execution_count": 54,
   "id": "fccc82a4-21e0-4b55-bd02-d2b085530b9f",
   "metadata": {},
   "outputs": [
    {
     "data": {
      "text/plain": [
       "0.6827260458839406"
      ]
     },
     "execution_count": 54,
     "metadata": {},
     "output_type": "execute_result"
    }
   ],
   "source": [
    "cv_result[\"test_precision\"].mean()"
   ]
  },
  {
   "cell_type": "code",
   "execution_count": 55,
   "id": "f4a338f8-7c23-4a4d-9ec3-e55fc72678e5",
   "metadata": {},
   "outputs": [
    {
     "data": {
      "text/plain": [
       "0.07452761627906976"
      ]
     },
     "execution_count": 55,
     "metadata": {},
     "output_type": "execute_result"
    }
   ],
   "source": [
    "cv_result[\"test_recall\"].mean()"
   ]
  },
  {
   "cell_type": "code",
   "execution_count": 56,
   "id": "76d5582e-255a-4bc2-9e98-f0870df283b9",
   "metadata": {},
   "outputs": [
    {
     "data": {
      "text/plain": [
       "0.133832377999555"
      ]
     },
     "execution_count": 56,
     "metadata": {},
     "output_type": "execute_result"
    }
   ],
   "source": [
    "cv_result[\"test_f1\"].mean()"
   ]
  },
  {
   "cell_type": "code",
   "execution_count": 57,
   "id": "55048112-983f-4a2c-88e7-af3afb652447",
   "metadata": {},
   "outputs": [
    {
     "data": {
      "text/plain": [
       "0.7241216277158219"
      ]
     },
     "execution_count": 57,
     "metadata": {},
     "output_type": "execute_result"
    }
   ],
   "source": [
    "cv_result[\"test_roc_auc\"].mean()"
   ]
  },
  {
   "cell_type": "code",
   "execution_count": 58,
   "id": "9d8ff6d4-9a6e-4271-b5e8-35eb3100a641",
   "metadata": {},
   "outputs": [],
   "source": [
    "#elimizde dengesiz dağılıma sahip bir veriseti var , bu verisetine çeşitli yöntemler uygulayarak dengeli hale getirmeye çalışalım."
   ]
  },
  {
   "cell_type": "code",
   "execution_count": 59,
   "id": "8c93828b-4725-49c1-b253-6549145da905",
   "metadata": {},
   "outputs": [],
   "source": [
    "#Resampling "
   ]
  },
  {
   "cell_type": "code",
   "execution_count": 60,
   "id": "1fa78c63-ef4b-40b9-9f92-03833dacf125",
   "metadata": {},
   "outputs": [],
   "source": [
    "#OverSampling  - azınlık sınıfına ait verileri kopyalayrak verisetinin dengeli bir hale gelmesini sağlar.\n",
    "                 #overfittinge neden olabilir.Veri seti küçükse bu yöntem kullanılabilir."
   ]
  },
  {
   "cell_type": "code",
   "execution_count": 61,
   "id": "f0f218c9-6345-4bb8-ab63-262dd7912988",
   "metadata": {},
   "outputs": [
    {
     "data": {
      "text/plain": [
       "TenYearCHD\n",
       "0    2885\n",
       "1     505\n",
       "Name: count, dtype: int64"
      ]
     },
     "execution_count": 61,
     "metadata": {},
     "output_type": "execute_result"
    }
   ],
   "source": [
    "y_train.value_counts()"
   ]
  },
  {
   "cell_type": "code",
   "execution_count": 65,
   "id": "68b954e3-9e64-4bf3-ba8e-40edd751d718",
   "metadata": {},
   "outputs": [],
   "source": [
    "from imblearn.over_sampling import RandomOverSampler\n",
    "oversample = RandomOverSampler(sampling_strategy = 'minority')\n",
    "X_randomover , y_randomover = oversample.fit_resample(X_train , y_train)"
   ]
  },
  {
   "cell_type": "code",
   "execution_count": 67,
   "id": "d6c19cf9-a7d7-4c2d-8331-b551ae797f95",
   "metadata": {},
   "outputs": [
    {
     "data": {
      "text/plain": [
       "TenYearCHD\n",
       "0    2885\n",
       "1    2885\n",
       "Name: count, dtype: int64"
      ]
     },
     "execution_count": 67,
     "metadata": {},
     "output_type": "execute_result"
    }
   ],
   "source": [
    "y_randomover.value_counts()"
   ]
  },
  {
   "cell_type": "code",
   "execution_count": 69,
   "id": "b8bb2a4c-e748-40c1-8c5f-5044816bf3e9",
   "metadata": {},
   "outputs": [],
   "source": [
    "log_model.fit(X_randomover , y_randomover)\n",
    "y_pred = log_model.predict(X_test)"
   ]
  },
  {
   "cell_type": "code",
   "execution_count": 70,
   "id": "e1adf475-08b3-4cf6-8d97-d439ab49d2d8",
   "metadata": {},
   "outputs": [
    {
     "name": "stdout",
     "output_type": "stream",
     "text": [
      "              precision    recall  f1-score   support\n",
      "\n",
      "           0       0.91      0.67      0.77       709\n",
      "           1       0.28      0.66      0.39       139\n",
      "\n",
      "    accuracy                           0.67       848\n",
      "   macro avg       0.60      0.66      0.58       848\n",
      "weighted avg       0.81      0.67      0.71       848\n",
      "\n"
     ]
    }
   ],
   "source": [
    "print(classification_report(y_test , y_pred))"
   ]
  },
  {
   "cell_type": "code",
   "execution_count": null,
   "id": "1642eed6-9942-4f08-a16d-b2506649599e",
   "metadata": {},
   "outputs": [],
   "source": [
    "#Smote Oversampling - Overfitting'i önlemek için azınlık sınıfından sentetik önrekler oluşturulması"
   ]
  },
  {
   "cell_type": "code",
   "execution_count": 71,
   "id": "02da7937-a129-4be6-9de2-69879f69b8e0",
   "metadata": {},
   "outputs": [
    {
     "data": {
      "text/plain": [
       "TenYearCHD\n",
       "0    2885\n",
       "1     505\n",
       "Name: count, dtype: int64"
      ]
     },
     "execution_count": 71,
     "metadata": {},
     "output_type": "execute_result"
    }
   ],
   "source": [
    "y_train.value_counts()"
   ]
  },
  {
   "cell_type": "code",
   "execution_count": 73,
   "id": "88e9faf1-f84f-42d4-8ca9-49fc4328ab04",
   "metadata": {},
   "outputs": [],
   "source": [
    "from imblearn.over_sampling import SMOTE\n",
    "oversample = SMOTE()\n",
    "X_smote , y_smote  = oversample.fit_resample(X_train , y_train)"
   ]
  },
  {
   "cell_type": "code",
   "execution_count": 74,
   "id": "56f986ec-d3b6-4ca7-acfd-90bbb1b0ae52",
   "metadata": {},
   "outputs": [
    {
     "data": {
      "text/plain": [
       "TenYearCHD\n",
       "0    2885\n",
       "1    2885\n",
       "Name: count, dtype: int64"
      ]
     },
     "execution_count": 74,
     "metadata": {},
     "output_type": "execute_result"
    }
   ],
   "source": [
    "y_smote.value_counts()"
   ]
  },
  {
   "cell_type": "code",
   "execution_count": 75,
   "id": "f8a35a92-207c-412d-9e99-e3e1e8f7598e",
   "metadata": {},
   "outputs": [],
   "source": [
    "log_model.fit(X_smote , y_smote)\n",
    "y_pred = log_model.predict(X_test)"
   ]
  },
  {
   "cell_type": "code",
   "execution_count": 76,
   "id": "6a5732b8-a5e6-4aec-95d3-a312413d7439",
   "metadata": {},
   "outputs": [
    {
     "name": "stdout",
     "output_type": "stream",
     "text": [
      "              precision    recall  f1-score   support\n",
      "\n",
      "           0       0.91      0.68      0.78       709\n",
      "           1       0.29      0.68      0.41       139\n",
      "\n",
      "    accuracy                           0.68       848\n",
      "   macro avg       0.60      0.68      0.59       848\n",
      "weighted avg       0.81      0.68      0.72       848\n",
      "\n"
     ]
    }
   ],
   "source": [
    "print(classification_report(y_test , y_pred))"
   ]
  },
  {
   "cell_type": "code",
   "execution_count": null,
   "id": "5d1bb74f-86e9-425f-9385-57b308cf0cf4",
   "metadata": {},
   "outputs": [],
   "source": [
    "#Undersampling - Çoğunluk sınıfına ait örneklerin çıkarılmasıyla veri setini dengeleme tekniğidir.\n",
    "#Büyük veri setine sahipse kullanılabilir , Rastgele seçimden dolayı bilgi kaybı yaşanabilir."
   ]
  },
  {
   "cell_type": "code",
   "execution_count": 77,
   "id": "de725f9b-016e-4997-a9ed-ea7453763f22",
   "metadata": {},
   "outputs": [
    {
     "data": {
      "text/plain": [
       "TenYearCHD\n",
       "0    2885\n",
       "1     505\n",
       "Name: count, dtype: int64"
      ]
     },
     "execution_count": 77,
     "metadata": {},
     "output_type": "execute_result"
    }
   ],
   "source": [
    "y_train.value_counts()"
   ]
  },
  {
   "cell_type": "code",
   "execution_count": 87,
   "id": "f9019182-1596-4df8-bb13-ccc73c4ef799",
   "metadata": {},
   "outputs": [],
   "source": [
    "from imblearn.under_sampling import RandomUnderSampler\n",
    "ranUnSample = RandomUnderSampler()\n",
    "X_ranUnSample , y_ranUnSample = ranUnSample.fit_resample(X_train , y_train)"
   ]
  },
  {
   "cell_type": "code",
   "execution_count": 88,
   "id": "41c1ba30-3265-41b9-a205-5e310e8dd92a",
   "metadata": {},
   "outputs": [
    {
     "data": {
      "text/plain": [
       "TenYearCHD\n",
       "0    505\n",
       "1    505\n",
       "Name: count, dtype: int64"
      ]
     },
     "execution_count": 88,
     "metadata": {},
     "output_type": "execute_result"
    }
   ],
   "source": [
    "y_ranUnSample.value_counts()"
   ]
  },
  {
   "cell_type": "code",
   "execution_count": 89,
   "id": "a9fb22eb-cc5f-4cf1-84ad-c12302c41457",
   "metadata": {},
   "outputs": [],
   "source": [
    "log_model.fit(X_ranUnSample , y_ranUnSample)\n",
    "y_pred = log_model.predict(X_test)"
   ]
  },
  {
   "cell_type": "code",
   "execution_count": 90,
   "id": "98a44f19-8b44-4570-a227-70bb93518356",
   "metadata": {},
   "outputs": [
    {
     "name": "stdout",
     "output_type": "stream",
     "text": [
      "              precision    recall  f1-score   support\n",
      "\n",
      "           0       0.91      0.68      0.78       709\n",
      "           1       0.29      0.66      0.40       139\n",
      "\n",
      "    accuracy                           0.67       848\n",
      "   macro avg       0.60      0.67      0.59       848\n",
      "weighted avg       0.81      0.67      0.71       848\n",
      "\n"
     ]
    }
   ],
   "source": [
    "print(classification_report(y_test , y_pred))"
   ]
  },
  {
   "cell_type": "code",
   "execution_count": null,
   "id": "5e9134ab-b64b-4fff-8b9b-efa365e94d0a",
   "metadata": {},
   "outputs": [],
   "source": []
  },
  {
   "cell_type": "code",
   "execution_count": null,
   "id": "3319c268-e524-4cb1-a932-1a934d7655cd",
   "metadata": {},
   "outputs": [],
   "source": []
  },
  {
   "cell_type": "code",
   "execution_count": null,
   "id": "63b09eeb-bfb4-43a0-83bc-d3421702775c",
   "metadata": {},
   "outputs": [],
   "source": []
  },
  {
   "cell_type": "code",
   "execution_count": null,
   "id": "cd79fdab-9d13-4ba2-813c-4144eaa3f994",
   "metadata": {},
   "outputs": [],
   "source": []
  },
  {
   "cell_type": "code",
   "execution_count": null,
   "id": "ab1c1a20-85f8-4590-ac6f-351807266981",
   "metadata": {},
   "outputs": [],
   "source": []
  },
  {
   "cell_type": "code",
   "execution_count": null,
   "id": "798a916b-ddd2-482f-bc61-5c5aa1abc016",
   "metadata": {},
   "outputs": [],
   "source": []
  },
  {
   "cell_type": "code",
   "execution_count": null,
   "id": "5cf67fd3-ea0d-47b8-aeac-a906d1ccfd60",
   "metadata": {},
   "outputs": [],
   "source": []
  },
  {
   "cell_type": "code",
   "execution_count": null,
   "id": "f577af72-23ef-40c9-9932-ed74a430b169",
   "metadata": {},
   "outputs": [],
   "source": []
  }
 ],
 "metadata": {
  "kernelspec": {
   "display_name": "Python 3 (ipykernel)",
   "language": "python",
   "name": "python3"
  },
  "language_info": {
   "codemirror_mode": {
    "name": "ipython",
    "version": 3
   },
   "file_extension": ".py",
   "mimetype": "text/x-python",
   "name": "python",
   "nbconvert_exporter": "python",
   "pygments_lexer": "ipython3",
   "version": "3.11.5"
  }
 },
 "nbformat": 4,
 "nbformat_minor": 5
}
